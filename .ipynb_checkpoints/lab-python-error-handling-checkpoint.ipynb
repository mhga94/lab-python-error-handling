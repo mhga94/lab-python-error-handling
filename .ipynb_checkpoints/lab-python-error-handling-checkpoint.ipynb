{
 "cells": [
  {
   "cell_type": "markdown",
   "id": "25d7736c-ba17-4aff-b6bb-66eba20fbf4e",
   "metadata": {},
   "source": [
    "# Lab | Error Handling"
   ]
  },
  {
   "cell_type": "markdown",
   "id": "bc99b386-7508-47a0-bcdb-d969deaf6c8b",
   "metadata": {},
   "source": [
    "## Exercise: Error Handling for Managing Customer Orders\n",
    "\n",
    "The implementation of your code for managing customer orders assumes that the user will always enter a valid input. \n",
    "\n",
    "For example, we could modify the `initialize_inventory` function to include error handling.\n",
    "   - If the user enters an invalid quantity (e.g., a negative value or a non-numeric value), display an error message and ask them to re-enter the quantity for that product.\n",
    "   - Use a try-except block to handle the error and continue prompting the user until a valid quantity is entered.\n",
    "\n",
    "```python\n",
    "# Step 1: Define the function for initializing the inventory with error handling\n",
    "def initialize_inventory(products):\n",
    "    inventory = {}\n",
    "    for product in products:\n",
    "        valid_quantity = False\n",
    "        while not valid_quantity:\n",
    "            try:\n",
    "                quantity = int(input(f\"Enter the quantity of {product}s available: \"))\n",
    "                if quantity < 0:\n",
    "                    raise ValueError(\"Invalid quantity! Please enter a non-negative value.\")\n",
    "                valid_quantity = True\n",
    "            except ValueError as error:\n",
    "                print(f\"Error: {error}\")\n",
    "        inventory[product] = quantity\n",
    "    return inventory\n",
    "\n",
    "# Or, in another way:\n",
    "\n",
    "def initialize_inventory(products):\n",
    "    inventory = {}\n",
    "    for product in products:\n",
    "        valid_input = False\n",
    "        while not valid_input:\n",
    "            try:\n",
    "                quantity = int(input(f\"Enter the quantity of {product}s available: \"))\n",
    "                if quantity >= 0:\n",
    "                    inventory[product] = quantity\n",
    "                    valid_input = True\n",
    "                else:\n",
    "                    print(\"Quantity cannot be negative. Please enter a valid quantity.\")\n",
    "            except ValueError:\n",
    "                print(\"Invalid input. Please enter a valid quantity.\")\n",
    "    return inventory\n",
    "```\n",
    "\n",
    "Let's enhance your code by implementing error handling to handle invalid inputs.\n",
    "\n",
    "Follow the steps below to complete the exercise:\n",
    "\n",
    "2. Modify the `calculate_total_price` function to include error handling.\n",
    "   - If the user enters an invalid price (e.g., a negative value or a non-numeric value), display an error message and ask them to re-enter the price for that product.\n",
    "   - Use a try-except block to handle the error and continue prompting the user until a valid price is entered.\n",
    "\n",
    "3. Modify the `get_customer_orders` function to include error handling.\n",
    "   - If the user enters an invalid number of orders (e.g., a negative value or a non-numeric value), display an error message and ask them to re-enter the number of orders.\n",
    "   - If the user enters an invalid product name (e.g., a product name that is not in the inventory), or that doesn't have stock available, display an error message and ask them to re-enter the product name. *Hint: you will need to pass inventory as a parameter*\n",
    "   - Use a try-except block to handle the error and continue prompting the user until a valid product name is entered.\n",
    "\n",
    "4. Test your code by running the program and deliberately entering invalid quantities and product names. Make sure the error handling mechanism works as expected.\n"
   ]
  },
  {
   "cell_type": "code",
   "execution_count": 3,
   "id": "80986f96-1fa7-44b2-bb23-b8f71bd970b5",
   "metadata": {
    "tags": []
   },
   "outputs": [],
   "source": [
    "# Step 1: Define the function for initializing the inventory with error handling\n",
    "def initialize_inventory(products):\n",
    "    inventory = {}\n",
    "    for product in products:\n",
    "        valid_quantity = False\n",
    "        while not valid_quantity:\n",
    "            try:\n",
    "                quantity = int(input(f\"Enter the quantity of {product}s available: \"))\n",
    "                if quantity < 0:\n",
    "                    raise ValueError(\"Invalid quantity! Please enter a non-negative value.\")\n",
    "                valid_quantity = True\n",
    "            except ValueError as error:\n",
    "                print(f\"Error: {error}\")\n",
    "        inventory[product] = quantity\n",
    "    return inventory"
   ]
  },
  {
   "cell_type": "code",
   "execution_count": 292,
   "id": "fd44ce2d-bb66-49de-9b3f-674504bd2c52",
   "metadata": {
    "tags": []
   },
   "outputs": [
    {
     "name": "stdin",
     "output_type": "stream",
     "text": [
      "Enter the quantity of mugs available:  10\n",
      "Enter the quantity of keychains available:  10\n",
      "Enter the quantity of books available:  10\n",
      "Enter the quantity of hats available:  10\n",
      "Enter the quantity of t-shirts available:  10\n"
     ]
    }
   ],
   "source": [
    "inventory = initialize_inventory(products)"
   ]
  },
  {
   "cell_type": "code",
   "execution_count": 310,
   "id": "31bd7eb3-4ff5-4817-8fcb-550eb5b46500",
   "metadata": {
    "tags": []
   },
   "outputs": [],
   "source": [
    "def get_customer_orders(inventory):\n",
    "    error_status = False\n",
    "    int_status = False\n",
    "    order_status = False\n",
    "    \n",
    "    while error_status == False:\n",
    "        order_num = input(\"Please enter the number of customer orders: \")\n",
    "        try:\n",
    "            order_num = int(order_num)\n",
    "            assert order_num >= 0\n",
    "            error_status = True\n",
    "        except Exception as e:\n",
    "            print(f\"{e}: Please enter a positive whole number!\")\n",
    "        \n",
    "    # Check for product available\n",
    "    while order_status == False:\n",
    "        customer_orders = [input(\"Enter the product that a customer wants to order: \") for i in range(order_num)]\n",
    "        try:\n",
    "            for i in customer_orders:\n",
    "                assert i in inventory.keys()\n",
    "            assert len(customer_orders) == order_num\n",
    "            order_status = True\n",
    "        except:\n",
    "            print(f\"I'm sorry we don't have any {i}s, please choose another product: \")\n",
    "            customer_orders.remove(i)\n",
    "            \n",
    "    print(f\"Order for {customer_orders} made!\")\n",
    "    return set(customer_orders)"
   ]
  },
  {
   "cell_type": "code",
   "execution_count": 312,
   "id": "de97ecf6-6869-43a8-b97c-b9de64f05970",
   "metadata": {
    "tags": []
   },
   "outputs": [
    {
     "name": "stdin",
     "output_type": "stream",
     "text": [
      "Please enter the number of customer orders:  1\n",
      "Enter the product that a customer wants to order:  dog\n"
     ]
    },
    {
     "name": "stdout",
     "output_type": "stream",
     "text": [
      "I'm sorry we don't have any dogs, please choose another product: \n"
     ]
    },
    {
     "name": "stdin",
     "output_type": "stream",
     "text": [
      "Enter the product that a customer wants to order:  cat\n"
     ]
    },
    {
     "name": "stdout",
     "output_type": "stream",
     "text": [
      "I'm sorry we don't have any cats, please choose another product: \n"
     ]
    },
    {
     "name": "stdin",
     "output_type": "stream",
     "text": [
      "Enter the product that a customer wants to order:  keychain\n"
     ]
    },
    {
     "name": "stdout",
     "output_type": "stream",
     "text": [
      "Order for ['keychain'] made!\n"
     ]
    }
   ],
   "source": [
    "customer_orders = get_customer_orders(inventory)"
   ]
  },
  {
   "cell_type": "code",
   "execution_count": 15,
   "id": "8be8a97c-29b1-4b21-9e63-97cee75e45c4",
   "metadata": {
    "tags": []
   },
   "outputs": [],
   "source": [
    "products = ['mug','keychain','book','hat','t-shirt']"
   ]
  },
  {
   "cell_type": "code",
   "execution_count": 255,
   "id": "e7d47b79-5119-4e6e-ae4e-8ce43332d587",
   "metadata": {
    "tags": []
   },
   "outputs": [],
   "source": [
    "# Step 2: Modify the 'calculate_total_price' function to include error handling\n",
    "\n",
    "def order_price(customer_orders):\n",
    "    order_status = False\n",
    "    while order_status == False:\n",
    "        price_list = [(input(f\"please enter price of {product}: \")) for product in customer_orders]\n",
    "        input_string = False\n",
    "        while input_string == False:\n",
    "            try:\n",
    "                price_list = [float(elem) for elem in price_list]\n",
    "                input_string = True\n",
    "            except:\n",
    "                print(\"Please enter only numerical values for the product prices!\")\n",
    "                price_list = [input(f\"please enter price of {product}: \") for product in customer_orders]\n",
    "        try:\n",
    "            if all(member >= 0 for member in price_list):\n",
    "                price_total = sum(price_list)\n",
    "                price = print(\"The order total is: £\", price_total)\n",
    "                return price\n",
    "                order_status = True\n",
    "            else:\n",
    "                print(\"You entered a negative number, please only enter positive values\")\n",
    "                price_list = [input(f\"please enter price of {product}: \") for product in customer_orders]\n",
    "            break\n",
    "        except ValueError:\n",
    "            print(\"You entered a non-numerical, please only enter positive numbers\")\n",
    "        except TypeError:\n",
    "            print(\"Please enter numerical values only\")\n",
    "        else:\n",
    "            break\n"
   ]
  }
 ],
 "metadata": {
  "kernelspec": {
   "display_name": "Python 3 (ipykernel)",
   "language": "python",
   "name": "python3"
  },
  "language_info": {
   "codemirror_mode": {
    "name": "ipython",
    "version": 3
   },
   "file_extension": ".py",
   "mimetype": "text/x-python",
   "name": "python",
   "nbconvert_exporter": "python",
   "pygments_lexer": "ipython3",
   "version": "3.11.7"
  }
 },
 "nbformat": 4,
 "nbformat_minor": 5
}
